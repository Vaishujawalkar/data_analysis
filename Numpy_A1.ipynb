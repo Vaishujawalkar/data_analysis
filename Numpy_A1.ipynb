{
  "nbformat": 4,
  "nbformat_minor": 0,
  "metadata": {
    "colab": {
      "provenance": [],
      "authorship_tag": "ABX9TyPe+e3aOQsi42s8Ca7f1ANf",
      "include_colab_link": true
    },
    "kernelspec": {
      "name": "python3",
      "display_name": "Python 3"
    },
    "language_info": {
      "name": "python"
    }
  },
  "cells": [
    {
      "cell_type": "markdown",
      "metadata": {
        "id": "view-in-github",
        "colab_type": "text"
      },
      "source": [
        "<a href=\"https://colab.research.google.com/github/Vaishujawalkar/data_analysis/blob/main/Numpy_A1.ipynb\" target=\"_parent\"><img src=\"https://colab.research.google.com/assets/colab-badge.svg\" alt=\"Open In Colab\"/></a>"
      ]
    },
    {
      "cell_type": "code",
      "execution_count": 1,
      "metadata": {
        "id": "v1gTlH7073hr"
      },
      "outputs": [],
      "source": [
        "import numpy as np"
      ]
    },
    {
      "cell_type": "code",
      "source": [
        "np.linspace(1,5,4)"
      ],
      "metadata": {
        "colab": {
          "base_uri": "https://localhost:8080/"
        },
        "id": "9VPidqFb79qr",
        "outputId": "89fd269c-8aec-4a86-9a79-20f8d82dbc60"
      },
      "execution_count": 2,
      "outputs": [
        {
          "output_type": "execute_result",
          "data": {
            "text/plain": [
              "array([1.        , 2.33333333, 3.66666667, 5.        ])"
            ]
          },
          "metadata": {},
          "execution_count": 2
        }
      ]
    },
    {
      "cell_type": "code",
      "source": [
        "np.ones(4)\n",
        "np.ones((4,5))\n",
        "# np.ones()#error"
      ],
      "metadata": {
        "colab": {
          "base_uri": "https://localhost:8080/"
        },
        "id": "pWUmZlBf8I2f",
        "outputId": "7c07e995-cda6-4d02-a532-166d035789ff"
      },
      "execution_count": 21,
      "outputs": [
        {
          "output_type": "execute_result",
          "data": {
            "text/plain": [
              "array([[1., 1., 1., 1., 1.],\n",
              "       [1., 1., 1., 1., 1.],\n",
              "       [1., 1., 1., 1., 1.],\n",
              "       [1., 1., 1., 1., 1.]])"
            ]
          },
          "metadata": {},
          "execution_count": 21
        }
      ]
    },
    {
      "cell_type": "code",
      "source": [
        "np.zeros((3,4))"
      ],
      "metadata": {
        "colab": {
          "base_uri": "https://localhost:8080/"
        },
        "id": "61-dFYQ58ENE",
        "outputId": "f6689eb6-ea7e-48af-f224-a7e75851974a"
      },
      "execution_count": 3,
      "outputs": [
        {
          "output_type": "execute_result",
          "data": {
            "text/plain": [
              "array([[0., 0., 0., 0.],\n",
              "       [0., 0., 0., 0.],\n",
              "       [0., 0., 0., 0.]])"
            ]
          },
          "metadata": {},
          "execution_count": 3
        }
      ]
    },
    {
      "cell_type": "code",
      "source": [
        "np.identity(4)"
      ],
      "metadata": {
        "colab": {
          "base_uri": "https://localhost:8080/"
        },
        "id": "4MsWUKST8H4Q",
        "outputId": "d55b819a-0df0-4db8-d3cd-a3e2b2b7d213"
      },
      "execution_count": 4,
      "outputs": [
        {
          "output_type": "execute_result",
          "data": {
            "text/plain": [
              "array([[1., 0., 0., 0.],\n",
              "       [0., 1., 0., 0.],\n",
              "       [0., 0., 1., 0.],\n",
              "       [0., 0., 0., 1.]])"
            ]
          },
          "metadata": {},
          "execution_count": 4
        }
      ]
    },
    {
      "cell_type": "code",
      "source": [
        "#Random values\n",
        "#1.randint\n",
        "#np.random.randint(sv,ev,n)\n",
        "arr = np.random.randint(1,10,(3))\n",
        "arr1 = np.random.randint(1,10,(3,4))\n",
        "arr1"
      ],
      "metadata": {
        "colab": {
          "base_uri": "https://localhost:8080/"
        },
        "id": "uFRPALJl8Q9d",
        "outputId": "82fb7701-d169-499b-bebe-9ed7b6516096"
      },
      "execution_count": 15,
      "outputs": [
        {
          "output_type": "execute_result",
          "data": {
            "text/plain": [
              "array([[7, 1, 9, 1],\n",
              "       [9, 6, 6, 4],\n",
              "       [8, 3, 4, 8]])"
            ]
          },
          "metadata": {},
          "execution_count": 15
        }
      ]
    },
    {
      "cell_type": "code",
      "source": [
        "#2. np.random.rand(n)\n",
        "np.random.rand(5)#->1D\n",
        "np.random.rand()#single value"
      ],
      "metadata": {
        "colab": {
          "base_uri": "https://localhost:8080/"
        },
        "id": "9Yiw-CdO9OqN",
        "outputId": "9d98701a-79e3-47b6-e2d6-19745c94a37c"
      },
      "execution_count": 17,
      "outputs": [
        {
          "output_type": "execute_result",
          "data": {
            "text/plain": [
              "0.5701461505458633"
            ]
          },
          "metadata": {},
          "execution_count": 17
        }
      ]
    },
    {
      "cell_type": "code",
      "source": [
        "#3.randn\n",
        "#np.random.randn(n)\n",
        "np.random.randn()\n",
        "np.random.randn(5)"
      ],
      "metadata": {
        "colab": {
          "base_uri": "https://localhost:8080/"
        },
        "id": "5NzPn0qo8qtI",
        "outputId": "84c9bced-2e99-41aa-d3d3-567d1f9dba5c"
      },
      "execution_count": 19,
      "outputs": [
        {
          "output_type": "execute_result",
          "data": {
            "text/plain": [
              "array([-0.74909416,  0.40829969, -0.21359505, -0.0460639 ,  0.87361578])"
            ]
          },
          "metadata": {},
          "execution_count": 19
        }
      ]
    },
    {
      "cell_type": "code",
      "source": [
        "#view\n",
        "# var = arr_name.view()\n",
        "arr = np.array([10,20,30,40])\n",
        "arr1 = arr.view()\n",
        "arr1\n",
        "arr[0] = 800\n",
        "print(arr)\n",
        "print(arr1)\n",
        "#addresses are different and changes are reflected"
      ],
      "metadata": {
        "colab": {
          "base_uri": "https://localhost:8080/"
        },
        "id": "UAJIMfP2_eZS",
        "outputId": "3fa8c584-13ba-484a-dd0c-a13c2d85192b"
      },
      "execution_count": 27,
      "outputs": [
        {
          "output_type": "stream",
          "name": "stdout",
          "text": [
            "[800  20  30  40]\n",
            "[800  20  30  40]\n"
          ]
        }
      ]
    },
    {
      "cell_type": "code",
      "source": [
        "#copy\n",
        "# var = arr_name.copy()\n",
        "arr = np.array([10,20,30,40])\n",
        "arr1 = arr.copy()\n",
        "arr1\n",
        "arr[0] = 800\n",
        "print(arr)\n",
        "print(arr1)\n",
        "#addresses are different and changes are not reflected"
      ],
      "metadata": {
        "colab": {
          "base_uri": "https://localhost:8080/"
        },
        "id": "S3Fn-OVOAAcs",
        "outputId": "09b5c4aa-8c4a-4429-a115-7fb65f72686a"
      },
      "execution_count": 28,
      "outputs": [
        {
          "output_type": "stream",
          "name": "stdout",
          "text": [
            "[800  20  30  40]\n",
            "[10 20 30 40]\n"
          ]
        }
      ]
    }
  ]
}